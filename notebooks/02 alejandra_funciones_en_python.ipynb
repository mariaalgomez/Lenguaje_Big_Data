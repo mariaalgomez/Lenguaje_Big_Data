{
 "cells": [
  {
   "cell_type": "markdown",
   "metadata": {},
   "source": [
    "# Funciones en Python\n",
    "--------------------------------------------------------------------------"
   ]
  },
  {
   "cell_type": "code",
   "execution_count": 2,
   "metadata": {},
   "outputs": [
    {
     "name": "stdout",
     "output_type": "stream",
     "text": [
      "x 3\n",
      "resultado 8\n"
     ]
    },
    {
     "data": {
      "text/plain": [
       "8"
      ]
     },
     "execution_count": 2,
     "metadata": {},
     "output_type": "execute_result"
    }
   ],
   "source": [
    "# funcion de x  F(x) = x+5 f(x=3)=3+5 -- 8\n",
    "#def--definir un objeto o una funcion\n",
    "#return -- devolver un valor o una tabla\n",
    "\n",
    "def f(x):\n",
    "    resultado = x+5\n",
    "\n",
    "    print('x',x)\n",
    "    print('resultado',resultado)\n",
    "    return resultado\n",
    "\n",
    "f(x=3)"
   ]
  },
  {
   "cell_type": "markdown",
   "metadata": {},
   "source": [
    "# Pseudo-codigo\n",
    "Estructurar tareas"
   ]
  },
  {
   "cell_type": "code",
   "execution_count": null,
   "metadata": {},
   "outputs": [],
   "source": [
    "# obtener el valor de la suma de los numeros de una lista\n",
    "# obtener el valor minimo y maximo de la lista\n",
    "# obtener la media y la desviacion estandar de la lista\n",
    "\n",
    "#Calucular_valores(lista_numeros\n",
    "#   suma                =calcular_suma(lista_numeros)\n",
    "#   media,desv_std      =cacular_valores_centrales(lista_numeros)\n",
    "#   min_val,max_val     =calcular_extremos(lista_numeros)\n",
    "#   return sum,media,dev_std,min_val,max_val"
   ]
  },
  {
   "cell_type": "code",
   "execution_count": 12,
   "metadata": {},
   "outputs": [],
   "source": [
    "import numpy as np\n",
    "\n",
    "def calcular_suma(lista_numeros):\n",
    "    resultado = np.sum(lista_numeros)\n",
    "    return resultado\n",
    "\n",
    "def calcular_valores_centrales(lista_numeros):\n",
    "    media = np.mean(lista_numeros)\n",
    "    desv_std = np.std(lista_numeros)\n",
    "    return media, desv_std\n",
    "\n",
    "def calcular_extremos(lista_numeros):\n",
    "    min_val = np.min(lista_numeros)\n",
    "    max_val = np.max(lista_numeros)\n",
    "    return min_val, max_val\n",
    "\n",
    "def calcular_valores(lista_numeros):\n",
    "    suma = calcular_suma(lista_numeros)\n",
    "    media, desv_std = calcular_valores_centrales(lista_numeros)\n",
    "    min_val, max_val = calcular_extremos(lista_numeros)\n",
    "\n",
    "\n",
    "    return suma, media, desv_std, min_val, max_val\n"
   ]
  },
  {
   "cell_type": "code",
   "execution_count": 13,
   "metadata": {},
   "outputs": [
    {
     "data": {
      "text/plain": [
       "(155, 25.833333333333332, 33.58777886209341, 1, 93)"
      ]
     },
     "execution_count": 13,
     "metadata": {},
     "output_type": "execute_result"
    }
   ],
   "source": [
    "lista_numeros =[1,5,8,3,45,93]\n",
    "\n",
    "calcular_valores(lista_numeros)"
   ]
  }
 ],
 "metadata": {
  "kernelspec": {
   "display_name": "Python 3.9.12 ('base')",
   "language": "python",
   "name": "python3"
  },
  "language_info": {
   "codemirror_mode": {
    "name": "ipython",
    "version": 3
   },
   "file_extension": ".py",
   "mimetype": "text/x-python",
   "name": "python",
   "nbconvert_exporter": "python",
   "pygments_lexer": "ipython3",
   "version": "3.9.12"
  },
  "orig_nbformat": 4,
  "vscode": {
   "interpreter": {
    "hash": "a2ab3825ac7005fb7b26f112e9c99ae62f464c629e30b0d534c3b931b6cbc3ff"
   }
  }
 },
 "nbformat": 4,
 "nbformat_minor": 2
}
